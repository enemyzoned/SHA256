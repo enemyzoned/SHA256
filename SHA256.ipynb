{
 "cells": [
  {
   "cell_type": "markdown",
   "id": "94101fc6",
   "metadata": {},
   "source": [
    "## SHA256 Encryption  \n",
    "\n",
    "Reference: https://blog.boot.dev/cryptography/how-sha-2-works-step-by-step-sha-256/"
   ]
  },
  {
   "cell_type": "markdown",
   "id": "3c5381b0",
   "metadata": {},
   "source": [
    "### Pre-processing"
   ]
  },
  {
   "cell_type": "code",
   "execution_count": 1,
   "id": "99a187d5",
   "metadata": {},
   "outputs": [],
   "source": [
    "string=\"hello world\""
   ]
  },
  {
   "cell_type": "markdown",
   "id": "cf29a38e",
   "metadata": {},
   "source": [
    "The string is converted to ASCII values and then to binary"
   ]
  },
  {
   "cell_type": "code",
   "execution_count": 2,
   "id": "60761f7f",
   "metadata": {},
   "outputs": [
    {
     "data": {
      "text/plain": [
       "[104, 101, 108, 108, 111, 32, 119, 111, 114, 108, 100]"
      ]
     },
     "execution_count": 2,
     "metadata": {},
     "output_type": "execute_result"
    }
   ],
   "source": [
    "values=[ord(x) for x in list(string)]\n",
    "values"
   ]
  },
  {
   "cell_type": "code",
   "execution_count": 3,
   "id": "f5f1f8c7",
   "metadata": {},
   "outputs": [
    {
     "data": {
      "text/plain": [
       "['01101000',\n",
       " '01100101',\n",
       " '01101100',\n",
       " '01101100',\n",
       " '01101111',\n",
       " '00100000',\n",
       " '01110111',\n",
       " '01101111',\n",
       " '01110010',\n",
       " '01101100',\n",
       " '01100100']"
      ]
     },
     "execution_count": 3,
     "metadata": {},
     "output_type": "execute_result"
    }
   ],
   "source": [
    "values=['{0:08b}'.format(x) for x in values]\n",
    "values"
   ]
  },
  {
   "cell_type": "code",
   "execution_count": 4,
   "id": "360f9fc6",
   "metadata": {},
   "outputs": [
    {
     "data": {
      "text/plain": [
       "88"
      ]
     },
     "execution_count": 4,
     "metadata": {},
     "output_type": "execute_result"
    }
   ],
   "source": [
    "inp_length=len(values)*8\n",
    "inp_length"
   ]
  },
  {
   "cell_type": "markdown",
   "id": "d210e9b5",
   "metadata": {},
   "source": [
    "A single 1 bit is added, then the input is padded till its length is divisible by 512  "
   ]
  },
  {
   "cell_type": "code",
   "execution_count": 5,
   "id": "035e4d23",
   "metadata": {},
   "outputs": [
    {
     "data": {
      "text/plain": [
       "['01101000',\n",
       " '01100101',\n",
       " '01101100',\n",
       " '01101100',\n",
       " '01101111',\n",
       " '00100000',\n",
       " '01110111',\n",
       " '01101111',\n",
       " '01110010',\n",
       " '01101100',\n",
       " '01100100',\n",
       " '10000000']"
      ]
     },
     "execution_count": 5,
     "metadata": {},
     "output_type": "execute_result"
    }
   ],
   "source": [
    "values.append('10000000')\n",
    "values"
   ]
  },
  {
   "cell_type": "markdown",
   "id": "609d3ec0",
   "metadata": {},
   "source": [
    "The input is padded till the the last 64 digits with zeros"
   ]
  },
  {
   "cell_type": "code",
   "execution_count": 6,
   "id": "ea54815b",
   "metadata": {},
   "outputs": [
    {
     "data": {
      "text/plain": [
       "['01101000',\n",
       " '01100101',\n",
       " '01101100',\n",
       " '01101100',\n",
       " '01101111',\n",
       " '00100000',\n",
       " '01110111',\n",
       " '01101111',\n",
       " '01110010',\n",
       " '01101100',\n",
       " '01100100',\n",
       " '10000000',\n",
       " '00000000',\n",
       " '00000000',\n",
       " '00000000',\n",
       " '00000000',\n",
       " '00000000',\n",
       " '00000000',\n",
       " '00000000',\n",
       " '00000000',\n",
       " '00000000',\n",
       " '00000000',\n",
       " '00000000',\n",
       " '00000000',\n",
       " '00000000',\n",
       " '00000000',\n",
       " '00000000',\n",
       " '00000000',\n",
       " '00000000',\n",
       " '00000000',\n",
       " '00000000',\n",
       " '00000000',\n",
       " '00000000',\n",
       " '00000000',\n",
       " '00000000',\n",
       " '00000000',\n",
       " '00000000',\n",
       " '00000000',\n",
       " '00000000',\n",
       " '00000000',\n",
       " '00000000',\n",
       " '00000000',\n",
       " '00000000',\n",
       " '00000000',\n",
       " '00000000',\n",
       " '00000000',\n",
       " '00000000',\n",
       " '00000000',\n",
       " '00000000',\n",
       " '00000000',\n",
       " '00000000',\n",
       " '00000000',\n",
       " '00000000',\n",
       " '00000000',\n",
       " '00000000',\n",
       " '00000000',\n",
       " '00000000',\n",
       " '00000000',\n",
       " '00000000',\n",
       " '00000000',\n",
       " '00000000',\n",
       " '00000000',\n",
       " '00000000',\n",
       " '00000000']"
      ]
     },
     "execution_count": 6,
     "metadata": {},
     "output_type": "execute_result"
    }
   ],
   "source": [
    "while len(values)*8%512!=0:\n",
    "    values.append('00000000')\n",
    "values"
   ]
  },
  {
   "cell_type": "markdown",
   "id": "4e7d4451",
   "metadata": {},
   "source": [
    "The last 64 bits to be appended are formed by the big-endian integer representation of the length of the original binary input.  \n",
    "In big-endian order, the most significant bits of the sequence are stored first, in the lowest storage address.  \n",
    "\n",
    "In this example, the length is 88"
   ]
  },
  {
   "cell_type": "code",
   "execution_count": 7,
   "id": "f28940fb",
   "metadata": {},
   "outputs": [
    {
     "data": {
      "text/plain": [
       "['01101000',\n",
       " '01100101',\n",
       " '01101100',\n",
       " '01101100',\n",
       " '01101111',\n",
       " '00100000',\n",
       " '01110111',\n",
       " '01101111',\n",
       " '01110010',\n",
       " '01101100',\n",
       " '01100100',\n",
       " '10000000',\n",
       " '00000000',\n",
       " '00000000',\n",
       " '00000000',\n",
       " '00000000',\n",
       " '00000000',\n",
       " '00000000',\n",
       " '00000000',\n",
       " '00000000',\n",
       " '00000000',\n",
       " '00000000',\n",
       " '00000000',\n",
       " '00000000',\n",
       " '00000000',\n",
       " '00000000',\n",
       " '00000000',\n",
       " '00000000',\n",
       " '00000000',\n",
       " '00000000',\n",
       " '00000000',\n",
       " '00000000',\n",
       " '00000000',\n",
       " '00000000',\n",
       " '00000000',\n",
       " '00000000',\n",
       " '00000000',\n",
       " '00000000',\n",
       " '00000000',\n",
       " '00000000',\n",
       " '00000000',\n",
       " '00000000',\n",
       " '00000000',\n",
       " '00000000',\n",
       " '00000000',\n",
       " '00000000',\n",
       " '00000000',\n",
       " '00000000',\n",
       " '00000000',\n",
       " '00000000',\n",
       " '00000000',\n",
       " '00000000',\n",
       " '00000000',\n",
       " '00000000',\n",
       " '00000000',\n",
       " '00000000']"
      ]
     },
     "execution_count": 7,
     "metadata": {},
     "output_type": "execute_result"
    }
   ],
   "source": [
    "del values[-9:-1]\n",
    "values"
   ]
  },
  {
   "cell_type": "code",
   "execution_count": 8,
   "id": "4d55baee",
   "metadata": {},
   "outputs": [
    {
     "data": {
      "text/plain": [
       "['00000000',\n",
       " '00000000',\n",
       " '00000000',\n",
       " '00000000',\n",
       " '00000000',\n",
       " '00000000',\n",
       " '00000000',\n",
       " '01011000']"
      ]
     },
     "execution_count": 8,
     "metadata": {},
     "output_type": "execute_result"
    }
   ],
   "source": [
    "be_length=list(map('{0:08b}'.format,list((inp_length).to_bytes(8,byteorder=\"big\"))))\n",
    "be_length"
   ]
  },
  {
   "cell_type": "code",
   "execution_count": 9,
   "id": "b8c9174d",
   "metadata": {},
   "outputs": [
    {
     "data": {
      "text/plain": [
       "['01101000',\n",
       " '01100101',\n",
       " '01101100',\n",
       " '01101100',\n",
       " '01101111',\n",
       " '00100000',\n",
       " '01110111',\n",
       " '01101111',\n",
       " '01110010',\n",
       " '01101100',\n",
       " '01100100',\n",
       " '10000000',\n",
       " '00000000',\n",
       " '00000000',\n",
       " '00000000',\n",
       " '00000000',\n",
       " '00000000',\n",
       " '00000000',\n",
       " '00000000',\n",
       " '00000000',\n",
       " '00000000',\n",
       " '00000000',\n",
       " '00000000',\n",
       " '00000000',\n",
       " '00000000',\n",
       " '00000000',\n",
       " '00000000',\n",
       " '00000000',\n",
       " '00000000',\n",
       " '00000000',\n",
       " '00000000',\n",
       " '00000000',\n",
       " '00000000',\n",
       " '00000000',\n",
       " '00000000',\n",
       " '00000000',\n",
       " '00000000',\n",
       " '00000000',\n",
       " '00000000',\n",
       " '00000000',\n",
       " '00000000',\n",
       " '00000000',\n",
       " '00000000',\n",
       " '00000000',\n",
       " '00000000',\n",
       " '00000000',\n",
       " '00000000',\n",
       " '00000000',\n",
       " '00000000',\n",
       " '00000000',\n",
       " '00000000',\n",
       " '00000000',\n",
       " '00000000',\n",
       " '00000000',\n",
       " '00000000',\n",
       " '00000000',\n",
       " '00000000',\n",
       " '00000000',\n",
       " '00000000',\n",
       " '00000000',\n",
       " '00000000',\n",
       " '00000000',\n",
       " '00000000',\n",
       " '01011000']"
      ]
     },
     "execution_count": 9,
     "metadata": {},
     "output_type": "execute_result"
    }
   ],
   "source": [
    "values.extend(be_length)\n",
    "values"
   ]
  },
  {
   "cell_type": "markdown",
   "id": "469eb2e9",
   "metadata": {},
   "source": [
    "The input sequence has now been created."
   ]
  },
  {
   "cell_type": "markdown",
   "id": "d470dc1b",
   "metadata": {},
   "source": [
    "### Initializing hash values"
   ]
  },
  {
   "cell_type": "code",
   "execution_count": 10,
   "id": "aaaea582",
   "metadata": {},
   "outputs": [],
   "source": [
    "from math import sqrt,modf"
   ]
  },
  {
   "cell_type": "code",
   "execution_count": 11,
   "id": "b1986e70",
   "metadata": {},
   "outputs": [],
   "source": [
    "def isPrime(n):\n",
    "    c=0\n",
    "    for i in range(1,n+1):\n",
    "        if n%i==0:\n",
    "            c=c+1\n",
    "    return c==2"
   ]
  },
  {
   "cell_type": "markdown",
   "id": "86e24b0f",
   "metadata": {},
   "source": [
    "8 hash values, which are derived from the first 32 bits of the irrational parts of the square roots of the first 8 prime numbers are created."
   ]
  },
  {
   "cell_type": "code",
   "execution_count": 12,
   "id": "e233bb2c",
   "metadata": {},
   "outputs": [
    {
     "data": {
      "text/plain": [
       "{0: '0x6a09e667',\n",
       " 1: '0xbb67ae85',\n",
       " 2: '0x3c6ef372',\n",
       " 3: '0xa54ff53a',\n",
       " 4: '0x510e527f',\n",
       " 5: '0x9b05688c',\n",
       " 6: '0x1f83d9ab',\n",
       " 7: '0x5be0cd19'}"
      ]
     },
     "execution_count": 12,
     "metadata": {},
     "output_type": "execute_result"
    }
   ],
   "source": [
    "H={}\n",
    "c=0\n",
    "n=0\n",
    "while len(H)<8:\n",
    "    if isPrime(n):\n",
    "        H[c]=hex(int(modf(sqrt(n))[0]*(1<<32)))\n",
    "        c+=1\n",
    "    n+=1\n",
    "    \n",
    "H"
   ]
  },
  {
   "cell_type": "markdown",
   "id": "35fb2f71",
   "metadata": {},
   "source": [
    "### Initializing round constants"
   ]
  },
  {
   "cell_type": "markdown",
   "id": "7bd768f4",
   "metadata": {},
   "source": [
    "In a similar manner, Round constants are initialized. These are formed from the first 32 bits of the irrational parts of the cube roots of the first 64 prime numbers."
   ]
  },
  {
   "cell_type": "code",
   "execution_count": 13,
   "id": "17bc7b79",
   "metadata": {},
   "outputs": [
    {
     "data": {
      "text/plain": [
       "{0: '0x428a2f98',\n",
       " 1: '0x71374491',\n",
       " 2: '0xb5c0fbcf',\n",
       " 3: '0xe9b5dba5',\n",
       " 4: '0x3956c25b',\n",
       " 5: '0x59f111f1',\n",
       " 6: '0x923f82a4',\n",
       " 7: '0xab1c5ed5',\n",
       " 8: '0xd807aa98',\n",
       " 9: '0x12835b01',\n",
       " 10: '0x243185be',\n",
       " 11: '0x550c7dc3',\n",
       " 12: '0x72be5d74',\n",
       " 13: '0x80deb1fe',\n",
       " 14: '0x9bdc06a7',\n",
       " 15: '0xc19bf174',\n",
       " 16: '0xe49b69c1',\n",
       " 17: '0xefbe4786',\n",
       " 18: '0xfc19dc6',\n",
       " 19: '0x240ca1cc',\n",
       " 20: '0x2de92c6f',\n",
       " 21: '0x4a7484aa',\n",
       " 22: '0x5cb0a9dc',\n",
       " 23: '0x76f988da',\n",
       " 24: '0x983e5152',\n",
       " 25: '0xa831c66d',\n",
       " 26: '0xb00327c8',\n",
       " 27: '0xbf597fc7',\n",
       " 28: '0xc6e00bf3',\n",
       " 29: '0xd5a79147',\n",
       " 30: '0x6ca6351',\n",
       " 31: '0x14292967',\n",
       " 32: '0x27b70a85',\n",
       " 33: '0x2e1b2138',\n",
       " 34: '0x4d2c6dfc',\n",
       " 35: '0x53380d13',\n",
       " 36: '0x650a7354',\n",
       " 37: '0x766a0abb',\n",
       " 38: '0x81c2c92e',\n",
       " 39: '0x92722c85',\n",
       " 40: '0xa2bfe8a1',\n",
       " 41: '0xa81a664b',\n",
       " 42: '0xc24b8b70',\n",
       " 43: '0xc76c51a3',\n",
       " 44: '0xd192e819',\n",
       " 45: '0xd6990624',\n",
       " 46: '0xf40e3585',\n",
       " 47: '0x106aa070',\n",
       " 48: '0x19a4c116',\n",
       " 49: '0x1e376c08',\n",
       " 50: '0x2748774c',\n",
       " 51: '0x34b0bcb5',\n",
       " 52: '0x391c0cb3',\n",
       " 53: '0x4ed8aa4a',\n",
       " 54: '0x5b9cca4f',\n",
       " 55: '0x682e6ff3',\n",
       " 56: '0x748f82ee',\n",
       " 57: '0x78a5636f',\n",
       " 58: '0x84c87814',\n",
       " 59: '0x8cc70208',\n",
       " 60: '0x90befffa',\n",
       " 61: '0xa4506ceb',\n",
       " 62: '0xbef9a3f7',\n",
       " 63: '0xc67178f2'}"
      ]
     },
     "execution_count": 13,
     "metadata": {},
     "output_type": "execute_result"
    }
   ],
   "source": [
    "k={}\n",
    "c=0\n",
    "n=0\n",
    "while len(k)<64:\n",
    "    if isPrime(n):\n",
    "        k[c]=hex(int(modf(n**(1/3))[0]*(1<<32)))\n",
    "        c+=1\n",
    "    n+=1\n",
    "    \n",
    "k"
   ]
  },
  {
   "cell_type": "markdown",
   "id": "6197dc9e",
   "metadata": {},
   "source": [
    "### Chunk loop  \n",
    "The following process is applied to every 512-bit portion of the input.  \n",
    "In this example, the input requires only one such chunk."
   ]
  },
  {
   "cell_type": "markdown",
   "id": "3d1d1737",
   "metadata": {},
   "source": [
    "#### Creating message schedule"
   ]
  },
  {
   "cell_type": "markdown",
   "id": "b37e1626",
   "metadata": {},
   "source": [
    "The input is split into 32-bit words and added to a new array."
   ]
  },
  {
   "cell_type": "code",
   "execution_count": 14,
   "id": "f8228fb9",
   "metadata": {},
   "outputs": [
    {
     "data": {
      "text/plain": [
       "['01101000011001010110110001101100',\n",
       " '01101111001000000111011101101111',\n",
       " '01110010011011000110010010000000',\n",
       " '00000000000000000000000000000000',\n",
       " '00000000000000000000000000000000',\n",
       " '00000000000000000000000000000000',\n",
       " '00000000000000000000000000000000',\n",
       " '00000000000000000000000000000000',\n",
       " '00000000000000000000000000000000',\n",
       " '00000000000000000000000000000000',\n",
       " '00000000000000000000000000000000',\n",
       " '00000000000000000000000000000000',\n",
       " '00000000000000000000000000000000',\n",
       " '00000000000000000000000000000000',\n",
       " '00000000000000000000000000000000',\n",
       " '00000000000000000000000001011000']"
      ]
     },
     "execution_count": 14,
     "metadata": {},
     "output_type": "execute_result"
    }
   ],
   "source": [
    "message_block=[]\n",
    "message_block.extend([\"\".join(values)[i:i+32] for i in range(0,512,32)])\n",
    "message_block"
   ]
  },
  {
   "cell_type": "markdown",
   "id": "d809f613",
   "metadata": {},
   "source": [
    "48 words consisting of 32 0 bits are added.  \n",
    "The array now has 64 32-bit words."
   ]
  },
  {
   "cell_type": "code",
   "execution_count": 15,
   "id": "387f5b1d",
   "metadata": {},
   "outputs": [
    {
     "data": {
      "text/plain": [
       "['01101000011001010110110001101100',\n",
       " '01101111001000000111011101101111',\n",
       " '01110010011011000110010010000000',\n",
       " '00000000000000000000000000000000',\n",
       " '00000000000000000000000000000000',\n",
       " '00000000000000000000000000000000',\n",
       " '00000000000000000000000000000000',\n",
       " '00000000000000000000000000000000',\n",
       " '00000000000000000000000000000000',\n",
       " '00000000000000000000000000000000',\n",
       " '00000000000000000000000000000000',\n",
       " '00000000000000000000000000000000',\n",
       " '00000000000000000000000000000000',\n",
       " '00000000000000000000000000000000',\n",
       " '00000000000000000000000000000000',\n",
       " '00000000000000000000000001011000',\n",
       " '00000000000000000000000000000000',\n",
       " '00000000000000000000000000000000',\n",
       " '00000000000000000000000000000000',\n",
       " '00000000000000000000000000000000',\n",
       " '00000000000000000000000000000000',\n",
       " '00000000000000000000000000000000',\n",
       " '00000000000000000000000000000000',\n",
       " '00000000000000000000000000000000',\n",
       " '00000000000000000000000000000000',\n",
       " '00000000000000000000000000000000',\n",
       " '00000000000000000000000000000000',\n",
       " '00000000000000000000000000000000',\n",
       " '00000000000000000000000000000000',\n",
       " '00000000000000000000000000000000',\n",
       " '00000000000000000000000000000000',\n",
       " '00000000000000000000000000000000',\n",
       " '00000000000000000000000000000000',\n",
       " '00000000000000000000000000000000',\n",
       " '00000000000000000000000000000000',\n",
       " '00000000000000000000000000000000',\n",
       " '00000000000000000000000000000000',\n",
       " '00000000000000000000000000000000',\n",
       " '00000000000000000000000000000000',\n",
       " '00000000000000000000000000000000',\n",
       " '00000000000000000000000000000000',\n",
       " '00000000000000000000000000000000',\n",
       " '00000000000000000000000000000000',\n",
       " '00000000000000000000000000000000',\n",
       " '00000000000000000000000000000000',\n",
       " '00000000000000000000000000000000',\n",
       " '00000000000000000000000000000000',\n",
       " '00000000000000000000000000000000',\n",
       " '00000000000000000000000000000000',\n",
       " '00000000000000000000000000000000',\n",
       " '00000000000000000000000000000000',\n",
       " '00000000000000000000000000000000',\n",
       " '00000000000000000000000000000000',\n",
       " '00000000000000000000000000000000',\n",
       " '00000000000000000000000000000000',\n",
       " '00000000000000000000000000000000',\n",
       " '00000000000000000000000000000000',\n",
       " '00000000000000000000000000000000',\n",
       " '00000000000000000000000000000000',\n",
       " '00000000000000000000000000000000',\n",
       " '00000000000000000000000000000000',\n",
       " '00000000000000000000000000000000',\n",
       " '00000000000000000000000000000000',\n",
       " '00000000000000000000000000000000']"
      ]
     },
     "execution_count": 15,
     "metadata": {},
     "output_type": "execute_result"
    }
   ],
   "source": [
    "message_block.extend(['0'*32 for _ in range(48)])\n",
    "message_block"
   ]
  },
  {
   "cell_type": "markdown",
   "id": "9d82056a",
   "metadata": {},
   "source": [
    "The indices 16-63 of the array which consist of 0-bits are modified as follows:"
   ]
  },
  {
   "cell_type": "markdown",
   "id": "0d81fffe",
   "metadata": {},
   "source": [
    "For a word w[i] at index i between 16-63:  \n",
    "* w[i] = w[i-16] + s0 + w[i-7] + s1  \n",
    "\n",
    "\n",
    "Where  \n",
    "* s0 = (w[i-15] rightrotate 7) XOR (w[i-15] rightrotate 18) XOR (w[i-15] rightshift 3)\n",
    "* s1 = (w[i-2] rightrotate 17) XOR (w[i-2] rightrotate 19) XOR (w[i-2] rightshift 10)"
   ]
  },
  {
   "cell_type": "markdown",
   "id": "0b37c2ad",
   "metadata": {},
   "source": [
    "It should be noted that all the addition operations are done modulo 2^32"
   ]
  },
  {
   "cell_type": "markdown",
   "id": "27cbb5c0",
   "metadata": {},
   "source": [
    "The below function rotates a string (in this case, a string representing a binary number) to the right by the specified number of places:"
   ]
  },
  {
   "cell_type": "code",
   "execution_count": 16,
   "id": "2575e357",
   "metadata": {},
   "outputs": [],
   "source": [
    "def rightRotate(string,places):\n",
    "    return string[len(string)-places:]+string[:len(string)-places]"
   ]
  },
  {
   "cell_type": "code",
   "execution_count": 17,
   "id": "787114b2",
   "metadata": {},
   "outputs": [
    {
     "data": {
      "text/plain": [
       "'10001100'"
      ]
     },
     "execution_count": 17,
     "metadata": {},
     "output_type": "execute_result"
    }
   ],
   "source": [
    "rightRotate(\"00110010\",2)"
   ]
  },
  {
   "cell_type": "markdown",
   "id": "f2b29b47",
   "metadata": {},
   "source": [
    "The below function achieves the output of bitwise right shift, but ensures that preceeding zeros are added to the string:"
   ]
  },
  {
   "cell_type": "code",
   "execution_count": 18,
   "id": "7e3b3f48",
   "metadata": {},
   "outputs": [],
   "source": [
    "def rightShift(string,places):\n",
    "    return '0'*places+string[:len(string)-places]"
   ]
  },
  {
   "cell_type": "code",
   "execution_count": 19,
   "id": "4c021b09",
   "metadata": {},
   "outputs": [
    {
     "data": {
      "text/plain": [
       "'000101'"
      ]
     },
     "execution_count": 19,
     "metadata": {},
     "output_type": "execute_result"
    }
   ],
   "source": [
    "rightShift(\"101010\",3)"
   ]
  },
  {
   "cell_type": "markdown",
   "id": "b4d19432",
   "metadata": {},
   "source": [
    "The function below modifies the message block to create the message schedule using the abovementioned functions and algorithm:"
   ]
  },
  {
   "cell_type": "code",
   "execution_count": 20,
   "id": "b7b06555",
   "metadata": {},
   "outputs": [],
   "source": [
    "def messageSchedule(w):\n",
    "    for i in range(16,64):\n",
    "        \n",
    "        s0=int(rightRotate(w[i-15],7),2)^int(rightRotate(w[i-15],18),2)^int(rightShift(w[i-15],3),2)\n",
    "        \n",
    "        s1=int(rightRotate(w[i-2],17),2)^int(rightRotate(w[i-2],19),2)^int(rightShift(w[i-2],10),2)\n",
    "        \n",
    "        new_wi=int(w[i-16],2)+s0+int(w[i-7],2)+s1\n",
    "        new_wi=new_wi%(2**32)\n",
    "        new_wi='{0:08b}'.format(new_wi)\n",
    "        new_wi='0'*(32-len(new_wi))+new_wi\n",
    "        \n",
    "        w[i]=new_wi"
   ]
  },
  {
   "cell_type": "code",
   "execution_count": 21,
   "id": "57c97927",
   "metadata": {},
   "outputs": [],
   "source": [
    "messageSchedule(message_block)"
   ]
  },
  {
   "cell_type": "code",
   "execution_count": 22,
   "id": "cf1cc140",
   "metadata": {},
   "outputs": [
    {
     "data": {
      "text/plain": [
       "['01101000011001010110110001101100',\n",
       " '01101111001000000111011101101111',\n",
       " '01110010011011000110010010000000',\n",
       " '00000000000000000000000000000000',\n",
       " '00000000000000000000000000000000',\n",
       " '00000000000000000000000000000000',\n",
       " '00000000000000000000000000000000',\n",
       " '00000000000000000000000000000000',\n",
       " '00000000000000000000000000000000',\n",
       " '00000000000000000000000000000000',\n",
       " '00000000000000000000000000000000',\n",
       " '00000000000000000000000000000000',\n",
       " '00000000000000000000000000000000',\n",
       " '00000000000000000000000000000000',\n",
       " '00000000000000000000000000000000',\n",
       " '00000000000000000000000001011000',\n",
       " '00110111010001110000001000110111',\n",
       " '10000110110100001100000000110001',\n",
       " '11010011101111010001000100001011',\n",
       " '01111000001111110100011110000010',\n",
       " '00101010100100000111110011101101',\n",
       " '01001011001011110111110011001001',\n",
       " '00110001111000011001010001011101',\n",
       " '10001001001101100100100101100100',\n",
       " '01111111011110100000011011011010',\n",
       " '11000001011110011010100100111010',\n",
       " '10111011111010001111011001010101',\n",
       " '00001100000110101110001111100110',\n",
       " '10110000111111100000110101111101',\n",
       " '01011111011011100101010110010011',\n",
       " '00000000100010011001101101010010',\n",
       " '00000111111100011100101010010100',\n",
       " '00111011010111111110010111010110',\n",
       " '01101000011001010110001011100110',\n",
       " '11001000010011100000101010011110',\n",
       " '00000110101011111001101100100101',\n",
       " '10010010111011110110010011010111',\n",
       " '01100011111110010101111001011010',\n",
       " '11100011000101100110011111010111',\n",
       " '10000100001110111101111000010110',\n",
       " '11101110111011001010100001011011',\n",
       " '10100000010011111111001000100001',\n",
       " '11111001000110001010110110111000',\n",
       " '00010100101010001001001000011001',\n",
       " '00010000100001000101001100011101',\n",
       " '01100000100100111110000011001101',\n",
       " '10000011000000110101111111101001',\n",
       " '11010101101011100111100100111000',\n",
       " '00111001001111110000010110101101',\n",
       " '11111011010010110001101111101111',\n",
       " '11101011011101011111111100101001',\n",
       " '01101010001101101001010100110100',\n",
       " '00100010111111001001110011011000',\n",
       " '10101001011101000000110100101011',\n",
       " '01100000110011110011100010000101',\n",
       " '11000100101011001001100000111010',\n",
       " '00010001010000101111110110101101',\n",
       " '10110000101100000001110111011001',\n",
       " '10011000111100001100001101101111',\n",
       " '01110010000101111011100000011110',\n",
       " '10100010110101000110011110011010',\n",
       " '00000001000011111001100101111011',\n",
       " '11111100000101110100111100001010',\n",
       " '11000010110000101110101100010110']"
      ]
     },
     "execution_count": 22,
     "metadata": {},
     "output_type": "execute_result"
    }
   ],
   "source": [
    "message_block"
   ]
  },
  {
   "cell_type": "markdown",
   "id": "ae45fdc2",
   "metadata": {},
   "source": [
    "#### Compression"
   ]
  },
  {
   "cell_type": "markdown",
   "id": "298115ad",
   "metadata": {},
   "source": [
    "8 variables a,b,c,d,e,f,g, and h are initialized and set as the current hash values."
   ]
  },
  {
   "cell_type": "code",
   "execution_count": 23,
   "id": "8ac8fe38",
   "metadata": {},
   "outputs": [
    {
     "data": {
      "text/plain": [
       "{0: 1779033703,\n",
       " 1: 3144134277,\n",
       " 2: 1013904242,\n",
       " 3: 2773480762,\n",
       " 4: 1359893119,\n",
       " 5: 2600822924,\n",
       " 6: 528734635,\n",
       " 7: 1541459225}"
      ]
     },
     "execution_count": 23,
     "metadata": {},
     "output_type": "execute_result"
    }
   ],
   "source": [
    "H={x:int(y,16) for x,y in list(H.items())}\n",
    "H"
   ]
  },
  {
   "cell_type": "code",
   "execution_count": 24,
   "id": "e9b65aeb",
   "metadata": {},
   "outputs": [
    {
     "data": {
      "text/plain": [
       "{0: '1101010000010011110011001100111',\n",
       " 1: '10111011011001111010111010000101',\n",
       " 2: '111100011011101111001101110010',\n",
       " 3: '10100101010011111111010100111010',\n",
       " 4: '1010001000011100101001001111111',\n",
       " 5: '10011011000001010110100010001100',\n",
       " 6: '11111100000111101100110101011',\n",
       " 7: '1011011111000001100110100011001'}"
      ]
     },
     "execution_count": 24,
     "metadata": {},
     "output_type": "execute_result"
    }
   ],
   "source": [
    "H={x:'{0:08b}'.format(y) for x,y in list(H.items())}\n",
    "H"
   ]
  },
  {
   "cell_type": "code",
   "execution_count": 25,
   "id": "e60d2543",
   "metadata": {},
   "outputs": [
    {
     "data": {
      "text/plain": [
       "{0: '01101010000010011110011001100111',\n",
       " 1: '10111011011001111010111010000101',\n",
       " 2: '00111100011011101111001101110010',\n",
       " 3: '10100101010011111111010100111010',\n",
       " 4: '01010001000011100101001001111111',\n",
       " 5: '10011011000001010110100010001100',\n",
       " 6: '00011111100000111101100110101011',\n",
       " 7: '01011011111000001100110100011001'}"
      ]
     },
     "execution_count": 25,
     "metadata": {},
     "output_type": "execute_result"
    }
   ],
   "source": [
    "H={x:\"0\"*(32-len(y))+y for x,y in list(H.items())}\n",
    "H"
   ]
  },
  {
   "cell_type": "markdown",
   "id": "61b2a5fd",
   "metadata": {},
   "source": [
    "A compression loop is run, where the values of the variables a-h are mutated as follows: "
   ]
  },
  {
   "cell_type": "markdown",
   "id": "8bc1a9ab",
   "metadata": {},
   "source": [
    "For index i from 0 to 63:  \n",
    "* h = g\n",
    "* g = f\n",
    "* f = e\n",
    "* e = d + temp1\n",
    "* d = c\n",
    "* c = b\n",
    "* b = a\n",
    "* a = temp1 + temp2  \n",
    "\n",
    "Where:\n",
    "* temp1 = h + s1 + ch + k[i] + w[i]\n",
    "* temp2 = s0 + maj  \n",
    "\n",
    "* s1 = (e rightrotate 6) XOR (e rightrotate 11) XOR (e rightrotate 25)\n",
    "* ch = (e AND f) XOR ((NOT e) AND g)\n",
    "* s0 = (a rightrotate 2) XOR (a rightrotate 13) XOR (a rightrotate 22)\n",
    "* maj = (a AND b) XOR (a AND c) XOR (b AND c)"
   ]
  },
  {
   "cell_type": "code",
   "execution_count": 26,
   "id": "45002b51",
   "metadata": {},
   "outputs": [],
   "source": [
    "def compression(w,H):\n",
    "    a,b,c,d,e,f,g,h=list(H.values())\n",
    "    \n",
    "    for i in range(64):\n",
    "        \n",
    "        s1 = int(rightRotate(e,6),2)^int(rightRotate(e,11),2)^int(rightRotate(e,25),2)\n",
    "        \n",
    "        ch = (int(e,2)&int(f,2))^((~(int(e,2)))&int(g,2))\n",
    "        \n",
    "        temp1 = int(h,2) + s1 + ch + int(k[i],16) + int(w[i],2)\n",
    "        temp1 = temp1%(2**32)\n",
    "        \n",
    "        s0 = int(rightRotate(a,2),2)^int(rightRotate(a,13),2)^int(rightRotate(a,22),2)\n",
    "        \n",
    "        maj = (int(a,2)&int(b,2))^(int(a,2)&int(c,2))^(int(b,2)&int(c,2))\n",
    "        \n",
    "        temp2 = s0+maj\n",
    "        temp2 = temp2%(2**32)\n",
    "        \n",
    "        h=g\n",
    "        \n",
    "        g=f\n",
    "        \n",
    "        f=e\n",
    "        \n",
    "        e=int(d,2)+temp1\n",
    "        e=e%(2**32)\n",
    "        e='{0:08b}'.format(e)\n",
    "        \n",
    "        d=c\n",
    "        \n",
    "        c=b\n",
    "        \n",
    "        b=a\n",
    "        \n",
    "        a=temp1+temp2\n",
    "        a=a%(2**32)\n",
    "        a='{0:08b}'.format(a)\n",
    "        \n",
    "        a=\"0\"*(32-len(a))+a\n",
    "        b=\"0\"*(32-len(b))+b\n",
    "        c=\"0\"*(32-len(c))+c\n",
    "        d=\"0\"*(32-len(d))+d\n",
    "        e=\"0\"*(32-len(e))+e\n",
    "        f=\"0\"*(32-len(f))+f\n",
    "        g=\"0\"*(32-len(g))+g\n",
    "        h=\"0\"*(32-len(h))+h\n",
    "        \n",
    "    return a,b,c,d,e,f,g,h\n",
    "        "
   ]
  },
  {
   "cell_type": "code",
   "execution_count": 27,
   "id": "00005066",
   "metadata": {},
   "outputs": [],
   "source": [
    "var=compression(message_block,H)"
   ]
  },
  {
   "cell_type": "code",
   "execution_count": 28,
   "id": "2f0f0a59",
   "metadata": {},
   "outputs": [
    {
     "data": {
      "text/plain": [
       "('01001111010000110100000101010010',\n",
       " '11010111111001011000111110000011',\n",
       " '01101000101111110101111101100101',\n",
       " '00110101001011011011011011000000',\n",
       " '01110011011101101001110101100100',\n",
       " '11011111010011100001100001100010',\n",
       " '01110001000001010001111000000001',\n",
       " '10000111000011110000000011010000')"
      ]
     },
     "execution_count": 28,
     "metadata": {},
     "output_type": "execute_result"
    }
   ],
   "source": [
    "var"
   ]
  },
  {
   "cell_type": "markdown",
   "id": "8b39d950",
   "metadata": {},
   "source": [
    "#### Modifying final values"
   ]
  },
  {
   "cell_type": "markdown",
   "id": "5a7b5946",
   "metadata": {},
   "source": [
    "After compression, within the chunk loop, the hash values are modified by adding their respective variables to them, as follows:  \n",
    "\n",
    "h0 = h0 + a  \n",
    "h1 = h1 + b  \n",
    "h2 = h2 + c  \n",
    "     .  \n",
    "     .  \n",
    "     .  \n",
    "h7 = h7 + h     "
   ]
  },
  {
   "cell_type": "code",
   "execution_count": 29,
   "id": "0d15e28d",
   "metadata": {},
   "outputs": [],
   "source": [
    "for i in range(8):\n",
    "    H[i]=int(H[i],2)+int(var[i],2)\n",
    "    H[i]=H[i]%(2**32)\n",
    "    H[i]='{0:08b}'.format(H[i])"
   ]
  },
  {
   "cell_type": "code",
   "execution_count": 30,
   "id": "95172e95",
   "metadata": {},
   "outputs": [
    {
     "data": {
      "text/plain": [
       "{0: '10111001010011010010011110111001',\n",
       " 1: '10010011010011010011111000001000',\n",
       " 2: '10100101001011100101001011010111',\n",
       " 3: '11011010011111011010101111111010',\n",
       " 4: '11000100100001001110111111100011',\n",
       " 5: '1111010010100111000000011101110',\n",
       " 6: '10010000100010001111011110101100',\n",
       " 7: '11100010111011111100110111101001'}"
      ]
     },
     "execution_count": 30,
     "metadata": {},
     "output_type": "execute_result"
    }
   ],
   "source": [
    "H"
   ]
  },
  {
   "cell_type": "markdown",
   "id": "44dc0085",
   "metadata": {},
   "source": [
    "#### Concatenation of final hash"
   ]
  },
  {
   "cell_type": "markdown",
   "id": "fee506cf",
   "metadata": {},
   "source": [
    "Concatenate the modified hashes to obtain final hash"
   ]
  },
  {
   "cell_type": "code",
   "execution_count": 31,
   "id": "8800a0d3",
   "metadata": {},
   "outputs": [
    {
     "data": {
      "text/plain": [
       "'b94d27b9934d3e08a52e52d7da7dabfac484efe37a5380ee9088f7ace2efcde9'"
      ]
     },
     "execution_count": 31,
     "metadata": {},
     "output_type": "execute_result"
    }
   ],
   "source": [
    "calculated_sha256=\"\".join([\"{:x}\".format(int(x,2)) for x in H.values()])\n",
    "calculated_sha256"
   ]
  },
  {
   "cell_type": "code",
   "execution_count": 32,
   "id": "15d67e3c",
   "metadata": {},
   "outputs": [],
   "source": [
    "import hashlib"
   ]
  },
  {
   "cell_type": "code",
   "execution_count": 33,
   "id": "f25a36b2",
   "metadata": {},
   "outputs": [
    {
     "data": {
      "text/plain": [
       "'b94d27b9934d3e08a52e52d7da7dabfac484efe37a5380ee9088f7ace2efcde9'"
      ]
     },
     "execution_count": 33,
     "metadata": {},
     "output_type": "execute_result"
    }
   ],
   "source": [
    "real_sha256=hashlib.sha256(\"hello world\".encode('utf-8')).hexdigest()\n",
    "real_sha256"
   ]
  },
  {
   "cell_type": "code",
   "execution_count": 34,
   "id": "17f65bec",
   "metadata": {},
   "outputs": [
    {
     "data": {
      "text/plain": [
       "True"
      ]
     },
     "execution_count": 34,
     "metadata": {},
     "output_type": "execute_result"
    }
   ],
   "source": [
    "calculated_sha256 == real_sha256"
   ]
  }
 ],
 "metadata": {
  "kernelspec": {
   "display_name": "Python 3 (ipykernel)",
   "language": "python",
   "name": "python3"
  },
  "language_info": {
   "codemirror_mode": {
    "name": "ipython",
    "version": 3
   },
   "file_extension": ".py",
   "mimetype": "text/x-python",
   "name": "python",
   "nbconvert_exporter": "python",
   "pygments_lexer": "ipython3",
   "version": "3.9.9"
  }
 },
 "nbformat": 4,
 "nbformat_minor": 5
}
